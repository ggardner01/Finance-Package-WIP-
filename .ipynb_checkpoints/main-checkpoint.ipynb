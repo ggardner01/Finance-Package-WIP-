{
 "cells": [
  {
   "cell_type": "code",
   "execution_count": 2,
   "metadata": {},
   "outputs": [
    {
     "data": {
      "text/plain": [
       "'!pip install numpy\\n!pip install matplotlib\\n!pip install scipy\\n!pip install pandas\\n!pip install pandas_datareader\\n!pip install statsmodels'"
      ]
     },
     "execution_count": 2,
     "metadata": {},
     "output_type": "execute_result"
    }
   ],
   "source": [
    "\"\"\"!pip install numpy\n",
    "!pip install matplotlib\n",
    "!pip install scipy\n",
    "!pip install pandas\n",
    "!pip install pandas_datareader\n",
    "!pip install statsmodels\"\"\""
   ]
  },
  {
   "cell_type": "code",
   "execution_count": 1,
   "metadata": {},
   "outputs": [
    {
     "name": "stderr",
     "output_type": "stream",
     "text": [
      "C:\\Users\\ggard\\Anaconda3\\lib\\site-packages\\statsmodels\\compat\\pandas.py:56: FutureWarning: The pandas.core.datetools module is deprecated and will be removed in a future version. Please use the pandas.tseries module instead.\n",
      "  from pandas.core import datetools\n"
     ]
    }
   ],
   "source": [
    "import numpy as np\n",
    "import matplotlib.pyplot as plt\n",
    "import scipy.optimize as opt\n",
    "import pandas as pd\n",
    "from pandas_datareader import data as web\n",
    "import datetime\n",
    "from statsmodels.tsa.arima_model import ARIMA\n",
    "from math import e"
   ]
  },
  {
   "cell_type": "code",
   "execution_count": 2,
   "metadata": {
    "collapsed": true
   },
   "outputs": [],
   "source": [
    "#Stock tickers for most of the SP500\n",
    "symsp500 = ['ABT', 'ABBV', 'ACN', 'ACE', 'ADBE', 'ADT', 'AAP', 'AES', 'AET', 'AFL', 'AMG', 'A', 'GAS', 'APD', 'ARG', 'AKAM', 'AA', 'AGN', 'ALXN', 'ALLE', 'ADS', 'ALL', 'ALTR', 'MO', 'AMZN', 'AEE', 'AAL', 'AEP', 'AXP', 'AIG', 'AMT', 'AMP', 'ABC', 'AME', 'AMGN', 'APH', 'APC', 'ADI', 'AON', 'APA', 'AIV', 'AMAT', 'ADM', 'AIZ', 'T', 'ADSK', 'ADP', 'AN', 'AZO', 'AVGO', 'AVB', 'AVY', 'BHI', 'BLL', 'BAC', 'BK', 'BCR', 'BXLT', 'BAX', 'BBT', 'BDX', 'BBBY', 'BRK-B', 'BBY', 'BLX', 'HRB', 'BA', 'BWA', 'BXP', 'BSK', 'BMY', 'BRCM', 'BF-B', 'CHRW', 'CA', 'CVC', 'COG', 'CAM', 'CPB', 'COF', 'CAH', 'HSIC', 'KMX', 'CCL', 'CAT', 'CBG', 'CBS', 'CELG', 'CNP', 'CTL', 'CERN', 'CF', 'SCHW', 'CHK', 'CVX', 'CMG', 'CB', 'CI', 'XEC', 'CINF', 'CTAS', 'CSCO', 'C', 'CTXS', 'CLX', 'CME', 'CMS', 'COH', 'KO', 'CCE', 'CTSH', 'CL', 'CMCSA', 'CMA', 'CSC', 'CAG', 'COP', 'CNX', 'ED', 'STZ', 'GLW', 'COST', 'CCI', 'CSX', 'CMI', 'CVS', 'DHI', 'DHR', 'DRI', 'DVA', 'DE', 'DLPH', 'DAL', 'XRAY', 'DVN', 'DO', 'DTV', 'DFS', 'DISCA', 'DISCK', 'DG', 'DLTR', 'D', 'DOV', 'DOW', 'DPS', 'DTE', 'DD', 'DUK', 'DNB', 'ETFC', 'EMN', 'ETN', 'EBAY', 'ECL', 'EIX', 'EW', 'EA', 'EMC', 'EMR', 'ENDP', 'ESV', 'ETR', 'EOG', 'EQT', 'EFX', 'EQIX', 'EQR', 'ESS', 'EL', 'ES', 'EXC', 'EXPE', 'EXPD', 'ESRX', 'XOM', 'FFIV', 'FB', 'FAST', 'FDX', 'FIS', 'FITB', 'FSLR', 'FE', 'FSIV', 'FLIR', 'FLS', 'FLR', 'FMC', 'FTI', 'F', 'FOSL', 'BEN', 'FCX', 'FTR', 'GME', 'GPS', 'GRMN', 'GD', 'GE', 'GGP', 'GIS', 'GM', 'GPC', 'GNW', 'GILD', 'GS', 'GT', 'GOOGL', 'GOOG', 'GWW', 'HAL', 'HBI', 'HOG', 'HAR', 'HRS', 'HIG', 'HAS', 'HCA', 'HCP', 'HCN', 'HP', 'HES', 'HPQ', 'HD', 'HON', 'HRL', 'HSP', 'HST', 'HCBK', 'HUM', 'HBAN', 'ITW', 'IR', 'INTC', 'ICE', 'IBM', 'IP', 'IPG', 'IFF', 'INTU', 'ISRG', 'IVZ', 'IRM', 'JEC', 'JBHT', 'JNJ', 'JCI', 'JOY', 'JPM', 'JNPR', 'KSU', 'K', 'KEY', 'GMCR', 'KMB', 'KIM', 'KMI', 'KLAC', 'KSS', 'KRFT', 'KR', 'LB', 'LLL', 'LH', 'LRCX', 'LM', 'LEG', 'LEN', 'LVLT', 'LUK', 'LLY', 'LNC', 'LLTC', 'LMT', 'L', 'LOW', 'LYB', 'MTB', 'MAC', 'M', 'MNK', 'MRO', 'MPC', 'MAR', 'MMC', 'MLM', 'MAS', 'MA', 'MAT', 'MKC', 'MCD', 'MHFI', 'MCK', 'MJN', 'MMV', 'MDT', 'MRK', 'MET', 'KORS', 'MCHP', 'MU', 'MSFT', 'MHK', 'TAP', 'MDLZ', 'MON', 'MNST', 'MCO', 'MS', 'MOS', 'MSI', 'MUR', 'MYL', 'NDAQ', 'NOV', 'NAVI', 'NTAP', 'NFLX', 'NWL', 'NFX', 'NEM', 'NWSA', 'NEE', 'NLSN', 'NKE', 'NI', 'NE', 'NBL', 'JWN', 'NSC', 'NTRS', 'NOC', 'NRG', 'NUE', 'NVDA', 'ORLY', 'OXY', 'OMC', 'OKE', 'ORCL', 'OI', 'PCAR', 'PLL', 'PH', 'PDCO', 'PAYX', 'PNR', 'PBCT', 'POM', 'PEP', 'PKI', 'PRGO', 'PFE', 'PCG', 'PM', 'PSX', 'PNW', 'PXD', 'PBI', 'PCL', 'PNC', 'RL', 'PPG', 'PPL', 'PX', 'PCP', 'PCLN', 'PFG', 'PG', 'PGR', 'PLD', 'PRU', 'PEG', 'PSA', 'PHM', 'PVH', 'QRVO', 'PWR', 'QCOM', 'DGX', 'RRC', 'RTN', 'O', 'RHT', 'REGN', 'RF', 'RSG', 'RAI', 'RHI', 'ROK', 'COL', 'ROP', 'ROST', 'RLC', 'R', 'CRM', 'SNDK', 'SCG', 'SLB', 'SNI', 'STX', 'SEE', 'SRE', 'SHW', 'SIAL', 'SPG', 'SWKS', 'SLG', 'SJM', 'SNA', 'SO', 'LUV', 'SWN', 'SE', 'STJ', 'SWK', 'SPLS', 'SBUX', 'HOT', 'STT', 'SRCL', 'SYK', 'STI', 'SYMC', 'SYY', 'TROW', 'TGT', 'TEL', 'TE', 'TGNA', 'THC', 'TDC', 'TSO', 'TXN', 'TXT', 'HSY', 'TRV', 'TMO', 'TIF', 'TWX', 'TWC', 'TJK', 'TMK', 'TSS', 'TSCO', 'RIG', 'TRIP', 'FOXA', 'TSN', 'TYC', 'UA', 'UNP', 'UNH', 'UPS', 'URI', 'UTX', 'UHS', 'UNM', 'URBN', 'VFC', 'VLO', 'VAR', 'VTR', 'VRSN', 'VZ', 'VRTX', 'VIAB', 'V', 'VNO', 'VMC', 'WMT', 'WBA', 'DIS', 'WM', 'WAT', 'ANTM', 'WFC', 'WDC', 'WU', 'WY', 'WHR', 'WFM', 'WMB', 'WEC', 'WYN', 'WYNN', 'XEL', 'XRX', 'XLNX', 'XL', 'XYL', 'YHOO', 'YUM', 'ZBH', 'ZION', 'ZTS']"
   ]
  },
  {
   "cell_type": "code",
   "execution_count": 3,
   "metadata": {
    "collapsed": true
   },
   "outputs": [],
   "source": [
    "#Function for pulling prices from the RobinHood API\n",
    "def readRobinHood(sym):\n",
    "    df = pd.DataFrame(index=web.DataReader(\"SPY\", \"robinhood\").index.levels[1])\n",
    "    for s in sym:\n",
    "        try:\n",
    "            frp = web.DataReader(s, \"robinhood\")\n",
    "            df[s] = (pd.to_numeric(frp.close_price.values) - pd.to_numeric(frp.open_price.values))/pd.to_numeric(frp.open_price.values)\n",
    "        except:pass\n",
    "    return df"
   ]
  },
  {
   "cell_type": "code",
   "execution_count": 4,
   "metadata": {
    "collapsed": true
   },
   "outputs": [],
   "source": [
    "sp447 = readRobinHood(symsp500)"
   ]
  },
  {
   "cell_type": "code",
   "execution_count": 5,
   "metadata": {},
   "outputs": [
    {
     "data": {
      "text/html": [
       "<div>\n",
       "<style scoped>\n",
       "    .dataframe tbody tr th:only-of-type {\n",
       "        vertical-align: middle;\n",
       "    }\n",
       "\n",
       "    .dataframe tbody tr th {\n",
       "        vertical-align: top;\n",
       "    }\n",
       "\n",
       "    .dataframe thead th {\n",
       "        text-align: right;\n",
       "    }\n",
       "</style>\n",
       "<table border=\"1\" class=\"dataframe\">\n",
       "  <thead>\n",
       "    <tr style=\"text-align: right;\">\n",
       "      <th></th>\n",
       "      <th>ABT</th>\n",
       "      <th>ABBV</th>\n",
       "      <th>ACN</th>\n",
       "      <th>ADBE</th>\n",
       "      <th>ADT</th>\n",
       "      <th>AAP</th>\n",
       "      <th>AES</th>\n",
       "      <th>AET</th>\n",
       "      <th>AFL</th>\n",
       "      <th>AMG</th>\n",
       "      <th>...</th>\n",
       "      <th>WYNN</th>\n",
       "      <th>XEL</th>\n",
       "      <th>XRX</th>\n",
       "      <th>XLNX</th>\n",
       "      <th>XL</th>\n",
       "      <th>XYL</th>\n",
       "      <th>YUM</th>\n",
       "      <th>ZBH</th>\n",
       "      <th>ZION</th>\n",
       "      <th>ZTS</th>\n",
       "    </tr>\n",
       "    <tr>\n",
       "      <th>begins_at</th>\n",
       "      <th></th>\n",
       "      <th></th>\n",
       "      <th></th>\n",
       "      <th></th>\n",
       "      <th></th>\n",
       "      <th></th>\n",
       "      <th></th>\n",
       "      <th></th>\n",
       "      <th></th>\n",
       "      <th></th>\n",
       "      <th></th>\n",
       "      <th></th>\n",
       "      <th></th>\n",
       "      <th></th>\n",
       "      <th></th>\n",
       "      <th></th>\n",
       "      <th></th>\n",
       "      <th></th>\n",
       "      <th></th>\n",
       "      <th></th>\n",
       "      <th></th>\n",
       "    </tr>\n",
       "  </thead>\n",
       "  <tbody>\n",
       "    <tr>\n",
       "      <th>2017-05-22</th>\n",
       "      <td>0.010631</td>\n",
       "      <td>-0.001678</td>\n",
       "      <td>0.009128</td>\n",
       "      <td>0.010773</td>\n",
       "      <td>0.0</td>\n",
       "      <td>-0.023393</td>\n",
       "      <td>0.017006</td>\n",
       "      <td>-0.003956</td>\n",
       "      <td>0.000947</td>\n",
       "      <td>0.004633</td>\n",
       "      <td>...</td>\n",
       "      <td>0.012949</td>\n",
       "      <td>0.012686</td>\n",
       "      <td>-0.002858</td>\n",
       "      <td>0.010325</td>\n",
       "      <td>0.008425</td>\n",
       "      <td>0.002109</td>\n",
       "      <td>0.010818</td>\n",
       "      <td>-0.002287</td>\n",
       "      <td>0.000250</td>\n",
       "      <td>-0.001325</td>\n",
       "    </tr>\n",
       "    <tr>\n",
       "      <th>2017-05-23</th>\n",
       "      <td>-0.000686</td>\n",
       "      <td>0.006113</td>\n",
       "      <td>-0.005779</td>\n",
       "      <td>0.002587</td>\n",
       "      <td>0.0</td>\n",
       "      <td>0.010852</td>\n",
       "      <td>-0.000881</td>\n",
       "      <td>0.006312</td>\n",
       "      <td>0.002433</td>\n",
       "      <td>-0.008122</td>\n",
       "      <td>...</td>\n",
       "      <td>-0.013429</td>\n",
       "      <td>0.003234</td>\n",
       "      <td>-0.005724</td>\n",
       "      <td>-0.005287</td>\n",
       "      <td>0.010738</td>\n",
       "      <td>0.012465</td>\n",
       "      <td>-0.002111</td>\n",
       "      <td>-0.001526</td>\n",
       "      <td>0.027591</td>\n",
       "      <td>0.015372</td>\n",
       "    </tr>\n",
       "    <tr>\n",
       "      <th>2017-05-24</th>\n",
       "      <td>-0.005936</td>\n",
       "      <td>0.002129</td>\n",
       "      <td>0.012621</td>\n",
       "      <td>0.006706</td>\n",
       "      <td>0.0</td>\n",
       "      <td>0.010406</td>\n",
       "      <td>0.034336</td>\n",
       "      <td>0.014519</td>\n",
       "      <td>-0.004584</td>\n",
       "      <td>-0.001179</td>\n",
       "      <td>...</td>\n",
       "      <td>-0.001530</td>\n",
       "      <td>0.004942</td>\n",
       "      <td>0.011526</td>\n",
       "      <td>0.000933</td>\n",
       "      <td>0.006133</td>\n",
       "      <td>-0.001518</td>\n",
       "      <td>0.013951</td>\n",
       "      <td>0.010178</td>\n",
       "      <td>-0.007559</td>\n",
       "      <td>0.014162</td>\n",
       "    </tr>\n",
       "    <tr>\n",
       "      <th>2017-05-25</th>\n",
       "      <td>0.003884</td>\n",
       "      <td>0.003937</td>\n",
       "      <td>0.002851</td>\n",
       "      <td>0.004854</td>\n",
       "      <td>0.0</td>\n",
       "      <td>-0.007744</td>\n",
       "      <td>0.005978</td>\n",
       "      <td>0.009032</td>\n",
       "      <td>0.011371</td>\n",
       "      <td>0.003846</td>\n",
       "      <td>...</td>\n",
       "      <td>0.003306</td>\n",
       "      <td>0.008752</td>\n",
       "      <td>-0.007100</td>\n",
       "      <td>0.010971</td>\n",
       "      <td>0.013321</td>\n",
       "      <td>-0.010815</td>\n",
       "      <td>-0.000416</td>\n",
       "      <td>-0.000503</td>\n",
       "      <td>0.001469</td>\n",
       "      <td>0.000320</td>\n",
       "    </tr>\n",
       "    <tr>\n",
       "      <th>2017-05-26</th>\n",
       "      <td>0.017985</td>\n",
       "      <td>-0.001210</td>\n",
       "      <td>-0.000406</td>\n",
       "      <td>-0.007276</td>\n",
       "      <td>0.0</td>\n",
       "      <td>0.017597</td>\n",
       "      <td>0.002550</td>\n",
       "      <td>-0.000275</td>\n",
       "      <td>0.003216</td>\n",
       "      <td>0.002083</td>\n",
       "      <td>...</td>\n",
       "      <td>0.010285</td>\n",
       "      <td>0.000000</td>\n",
       "      <td>0.002866</td>\n",
       "      <td>0.005190</td>\n",
       "      <td>-0.001613</td>\n",
       "      <td>-0.011916</td>\n",
       "      <td>-0.000554</td>\n",
       "      <td>-0.001842</td>\n",
       "      <td>-0.010761</td>\n",
       "      <td>-0.002707</td>\n",
       "    </tr>\n",
       "  </tbody>\n",
       "</table>\n",
       "<p>5 rows × 447 columns</p>\n",
       "</div>"
      ],
      "text/plain": [
       "                 ABT      ABBV       ACN      ADBE  ADT       AAP       AES  \\\n",
       "begins_at                                                                     \n",
       "2017-05-22  0.010631 -0.001678  0.009128  0.010773  0.0 -0.023393  0.017006   \n",
       "2017-05-23 -0.000686  0.006113 -0.005779  0.002587  0.0  0.010852 -0.000881   \n",
       "2017-05-24 -0.005936  0.002129  0.012621  0.006706  0.0  0.010406  0.034336   \n",
       "2017-05-25  0.003884  0.003937  0.002851  0.004854  0.0 -0.007744  0.005978   \n",
       "2017-05-26  0.017985 -0.001210 -0.000406 -0.007276  0.0  0.017597  0.002550   \n",
       "\n",
       "                 AET       AFL       AMG    ...         WYNN       XEL  \\\n",
       "begins_at                                   ...                          \n",
       "2017-05-22 -0.003956  0.000947  0.004633    ...     0.012949  0.012686   \n",
       "2017-05-23  0.006312  0.002433 -0.008122    ...    -0.013429  0.003234   \n",
       "2017-05-24  0.014519 -0.004584 -0.001179    ...    -0.001530  0.004942   \n",
       "2017-05-25  0.009032  0.011371  0.003846    ...     0.003306  0.008752   \n",
       "2017-05-26 -0.000275  0.003216  0.002083    ...     0.010285  0.000000   \n",
       "\n",
       "                 XRX      XLNX        XL       XYL       YUM       ZBH  \\\n",
       "begins_at                                                                \n",
       "2017-05-22 -0.002858  0.010325  0.008425  0.002109  0.010818 -0.002287   \n",
       "2017-05-23 -0.005724 -0.005287  0.010738  0.012465 -0.002111 -0.001526   \n",
       "2017-05-24  0.011526  0.000933  0.006133 -0.001518  0.013951  0.010178   \n",
       "2017-05-25 -0.007100  0.010971  0.013321 -0.010815 -0.000416 -0.000503   \n",
       "2017-05-26  0.002866  0.005190 -0.001613 -0.011916 -0.000554 -0.001842   \n",
       "\n",
       "                ZION       ZTS  \n",
       "begins_at                       \n",
       "2017-05-22  0.000250 -0.001325  \n",
       "2017-05-23  0.027591  0.015372  \n",
       "2017-05-24 -0.007559  0.014162  \n",
       "2017-05-25  0.001469  0.000320  \n",
       "2017-05-26 -0.010761 -0.002707  \n",
       "\n",
       "[5 rows x 447 columns]"
      ]
     },
     "execution_count": 5,
     "metadata": {},
     "output_type": "execute_result"
    }
   ],
   "source": [
    "sp447.head()"
   ]
  },
  {
   "cell_type": "code",
   "execution_count": 6,
   "metadata": {},
   "outputs": [
    {
     "name": "stdout",
     "output_type": "stream",
     "text": [
      "                              ARMA Model Results                              \n",
      "==============================================================================\n",
      "Dep. Variable:                      y   No. Observations:                  250\n",
      "Model:                     ARMA(3, 0)   Log Likelihood                 776.167\n",
      "Method:                           css   S.D. of innovations              0.010\n",
      "Date:                Mon, 21 May 2018   AIC                          -1542.334\n",
      "Time:                        22:49:46   BIC                          -1524.787\n",
      "Sample:                             3   HQIC                         -1535.269\n",
      "                                                                              \n",
      "==============================================================================\n",
      "                 coef    std err          z      P>|z|      [0.025      0.975]\n",
      "------------------------------------------------------------------------------\n",
      "const          0.0008      0.001      1.045      0.297      -0.001       0.002\n",
      "ar.L1.y        0.0165      0.063      0.260      0.795      -0.107       0.140\n",
      "ar.L2.y       -0.0452      0.063     -0.714      0.476      -0.169       0.079\n",
      "ar.L3.y        0.1044      0.063      1.650      0.100      -0.020       0.228\n",
      "                                    Roots                                    \n",
      "=============================================================================\n",
      "                 Real           Imaginary           Modulus         Frequency\n",
      "-----------------------------------------------------------------------------\n",
      "AR.1           -0.9095           -1.8511j            2.0625           -0.3227\n",
      "AR.2           -0.9095           +1.8511j            2.0625            0.3227\n",
      "AR.3            2.2520           -0.0000j            2.2520           -0.0000\n",
      "-----------------------------------------------------------------------------\n"
     ]
    }
   ],
   "source": [
    "#Syntax used for ARIMA Modelling in python. order = (# of autoregressions, # differences, # of MA terms)\n",
    "regr = ARIMA(endog = sp447[\"ABT\"].values, order = (3,0,0))\n",
    "print(regr.fit(method=\"css\").summary())"
   ]
  },
  {
   "cell_type": "code",
   "execution_count": 66,
   "metadata": {
    "collapsed": true
   },
   "outputs": [],
   "source": [
    "#predicts years out returns for all stocks using ARIMA. leng is the number of predictions (I projected a year out, but you will likely\n",
    "#want less if you plan on regularly rebalancing your portfolio)\n",
    "def ARIMAreturns(df, p=1, d=0, q=0, leng = 364):\n",
    "    new = pd.DataFrame()\n",
    "    for v in list(df.columns.values):\n",
    "        regr = ARIMA(endog = df[v].values, order = (p,d,q))\n",
    "        pred = regr.fit(method=\"css\").predict(end=leng)\n",
    "        r = e**(np.sum(pred)) - 1\n",
    "        new[v] = np.array([r])\n",
    "    return new"
   ]
  },
  {
   "cell_type": "code",
   "execution_count": 8,
   "metadata": {},
   "outputs": [
    {
     "name": "stderr",
     "output_type": "stream",
     "text": [
      "C:\\Users\\ggard\\Anaconda3\\lib\\site-packages\\statsmodels\\base\\model.py:496: ConvergenceWarning: Maximum Likelihood optimization failed to converge. Check mle_retvals\n",
      "  \"Check mle_retvals\", ConvergenceWarning)\n"
     ]
    }
   ],
   "source": [
    "predret = ARIMAreturns(sp447,3,0,0)"
   ]
  },
  {
   "cell_type": "code",
   "execution_count": 9,
   "metadata": {},
   "outputs": [
    {
     "data": {
      "text/html": [
       "<div>\n",
       "<style scoped>\n",
       "    .dataframe tbody tr th:only-of-type {\n",
       "        vertical-align: middle;\n",
       "    }\n",
       "\n",
       "    .dataframe tbody tr th {\n",
       "        vertical-align: top;\n",
       "    }\n",
       "\n",
       "    .dataframe thead th {\n",
       "        text-align: right;\n",
       "    }\n",
       "</style>\n",
       "<table border=\"1\" class=\"dataframe\">\n",
       "  <thead>\n",
       "    <tr style=\"text-align: right;\">\n",
       "      <th></th>\n",
       "      <th>0</th>\n",
       "    </tr>\n",
       "  </thead>\n",
       "  <tbody>\n",
       "    <tr>\n",
       "      <th>ABT</th>\n",
       "      <td>0.313390</td>\n",
       "    </tr>\n",
       "    <tr>\n",
       "      <th>ABBV</th>\n",
       "      <td>0.516423</td>\n",
       "    </tr>\n",
       "    <tr>\n",
       "      <th>ACN</th>\n",
       "      <td>0.234143</td>\n",
       "    </tr>\n",
       "    <tr>\n",
       "      <th>ADBE</th>\n",
       "      <td>0.367292</td>\n",
       "    </tr>\n",
       "    <tr>\n",
       "      <th>ADT</th>\n",
       "      <td>-0.594998</td>\n",
       "    </tr>\n",
       "  </tbody>\n",
       "</table>\n",
       "</div>"
      ],
      "text/plain": [
       "             0\n",
       "ABT   0.313390\n",
       "ABBV  0.516423\n",
       "ACN   0.234143\n",
       "ADBE  0.367292\n",
       "ADT  -0.594998"
      ]
     },
     "execution_count": 9,
     "metadata": {},
     "output_type": "execute_result"
    }
   ],
   "source": [
    "predret.transpose().head()"
   ]
  },
  {
   "cell_type": "code",
   "execution_count": 10,
   "metadata": {
    "collapsed": true
   },
   "outputs": [],
   "source": [
    "#returns the portfolio sd from the nxn covariance matrix and length n \n",
    "#vector of weights\n",
    "def weightedvar(cov, weights):\n",
    "    tot = 0\n",
    "    for i in range(0,len(weights)):\n",
    "        for j in range(0,len(weights)):\n",
    "            tot += cov[i,j]*weights[i]*weights[j]\n",
    "    return(tot)\n",
    "\n",
    "#gets portfoio return from a vector of returns and weights\n",
    "def weightedreturn(returns, weights):\n",
    "    tot = 0\n",
    "    for i in range(0,len(returns)):\n",
    "        tot += returns[i]*weights[i]\n",
    "    return tot"
   ]
  },
  {
   "cell_type": "code",
   "execution_count": 11,
   "metadata": {
    "collapsed": true
   },
   "outputs": [],
   "source": [
    "#weightedreturn(predret.transpose.values, x0)"
   ]
  },
  {
   "cell_type": "code",
   "execution_count": 12,
   "metadata": {},
   "outputs": [
    {
     "data": {
      "text/html": [
       "<div>\n",
       "<style scoped>\n",
       "    .dataframe tbody tr th:only-of-type {\n",
       "        vertical-align: middle;\n",
       "    }\n",
       "\n",
       "    .dataframe tbody tr th {\n",
       "        vertical-align: top;\n",
       "    }\n",
       "\n",
       "    .dataframe thead th {\n",
       "        text-align: right;\n",
       "    }\n",
       "</style>\n",
       "<table border=\"1\" class=\"dataframe\">\n",
       "  <thead>\n",
       "    <tr style=\"text-align: right;\">\n",
       "      <th></th>\n",
       "      <th>ABT</th>\n",
       "      <th>ABBV</th>\n",
       "      <th>ACN</th>\n",
       "      <th>ADBE</th>\n",
       "      <th>ADT</th>\n",
       "    </tr>\n",
       "  </thead>\n",
       "  <tbody>\n",
       "    <tr>\n",
       "      <th>ABT</th>\n",
       "      <td>0.000110</td>\n",
       "      <td>0.000075</td>\n",
       "      <td>0.000055</td>\n",
       "      <td>0.000067</td>\n",
       "      <td>0.000015</td>\n",
       "    </tr>\n",
       "    <tr>\n",
       "      <th>ABBV</th>\n",
       "      <td>0.000075</td>\n",
       "      <td>0.000252</td>\n",
       "      <td>0.000067</td>\n",
       "      <td>0.000081</td>\n",
       "      <td>0.000067</td>\n",
       "    </tr>\n",
       "    <tr>\n",
       "      <th>ACN</th>\n",
       "      <td>0.000055</td>\n",
       "      <td>0.000067</td>\n",
       "      <td>0.000095</td>\n",
       "      <td>0.000085</td>\n",
       "      <td>0.000023</td>\n",
       "    </tr>\n",
       "    <tr>\n",
       "      <th>ADBE</th>\n",
       "      <td>0.000067</td>\n",
       "      <td>0.000081</td>\n",
       "      <td>0.000085</td>\n",
       "      <td>0.000220</td>\n",
       "      <td>0.000016</td>\n",
       "    </tr>\n",
       "    <tr>\n",
       "      <th>ADT</th>\n",
       "      <td>0.000015</td>\n",
       "      <td>0.000067</td>\n",
       "      <td>0.000023</td>\n",
       "      <td>0.000016</td>\n",
       "      <td>0.000482</td>\n",
       "    </tr>\n",
       "  </tbody>\n",
       "</table>\n",
       "</div>"
      ],
      "text/plain": [
       "           ABT      ABBV       ACN      ADBE       ADT\n",
       "ABT   0.000110  0.000075  0.000055  0.000067  0.000015\n",
       "ABBV  0.000075  0.000252  0.000067  0.000081  0.000067\n",
       "ACN   0.000055  0.000067  0.000095  0.000085  0.000023\n",
       "ADBE  0.000067  0.000081  0.000085  0.000220  0.000016\n",
       "ADT   0.000015  0.000067  0.000023  0.000016  0.000482"
      ]
     },
     "execution_count": 12,
     "metadata": {},
     "output_type": "execute_result"
    }
   ],
   "source": [
    "varsp447 = np.array(sp447.cov())\n",
    "sp447.cov().iloc[0:5,0:5]"
   ]
  },
  {
   "cell_type": "code",
   "execution_count": 21,
   "metadata": {
    "collapsed": true
   },
   "outputs": [],
   "source": [
    "## for opt.minimimize\n",
    "size = sp447.shape[1] #sp447.shape[1] = 447\n",
    "#Weights sum to 1\n",
    "cons = ({'type':'eq', 'fun': lambda x: 1 - np.sum(x)})\n",
    "\n",
    "#bounds when shorts both are/aren't allowed. \n",
    "bds = [(0,1) for i in range(0,size)] \n",
    "bdsshort = [(-1,1) for i in range(0,size)]\n",
    "\n",
    "portvar = lambda x : weightedvar(varsp447*10000, x)\n",
    "\n",
    "#Initial values fed to optimizer\n",
    "x0 = [1/size]*size"
   ]
  },
  {
   "cell_type": "code",
   "execution_count": 22,
   "metadata": {},
   "outputs": [
    {
     "name": "stdout",
     "output_type": "stream",
     "text": [
      "Optimization terminated successfully.    (Exit mode 0)\n",
      "            Current function value: 0.06826582505317835\n",
      "            Iterations: 16\n",
      "            Function evaluations: 7198\n",
      "            Gradient evaluations: 16\n"
     ]
    }
   ],
   "source": [
    "#Here we use the SCIPY package to non-analytically find the portfolio with the smallest variance.\n",
    "minvar = opt.minimize(portvar, x0=x0, bounds = bds, constraints = cons, options={'disp': True ,'eps' : 1e-4}).x.tolist()\n"
   ]
  },
  {
   "cell_type": "code",
   "execution_count": 42,
   "metadata": {},
   "outputs": [
    {
     "data": {
      "text/plain": [
       "[1.525610242614884e-16,\n",
       " 0.0,\n",
       " 1.0598836783645519e-16,\n",
       " 1.3204816531808097e-16,\n",
       " 1.8668924640655625e-16]"
      ]
     },
     "execution_count": 42,
     "metadata": {},
     "output_type": "execute_result"
    }
   ],
   "source": [
    "minvar[0:5]"
   ]
  },
  {
   "cell_type": "code",
   "execution_count": 43,
   "metadata": {},
   "outputs": [
    {
     "data": {
      "text/plain": [
       "0.007864563023819554"
      ]
     },
     "execution_count": 43,
     "metadata": {},
     "output_type": "execute_result"
    }
   ],
   "source": [
    "weightedreturn(np.array(predret.transpose()[0]), minvar)"
   ]
  },
  {
   "cell_type": "code",
   "execution_count": 53,
   "metadata": {},
   "outputs": [],
   "source": [
    "funcsharp = lambda x : -(weightedreturn(weights = x, returns = np.array(predret.transpose()[0])))/np.sqrt(weightedvar(cov = varsp447, weights = x))\n",
    "maxsharp = opt.minimize(funcsharp, x0 = x0, bounds = bds, constraints = cons).x.tolist() "
   ]
  },
  {
   "cell_type": "code",
   "execution_count": 55,
   "metadata": {},
   "outputs": [
    {
     "data": {
      "text/plain": [
       "0.968198261977317"
      ]
     },
     "execution_count": 55,
     "metadata": {},
     "output_type": "execute_result"
    }
   ],
   "source": [
    "# WE HAVE FOUND THE MAX SHARP PORTFOLIO!\n",
    "weightedreturn(np.array(predret.transpose()[0]), maxsharp)"
   ]
  },
  {
   "cell_type": "code",
   "execution_count": 85,
   "metadata": {
    "collapsed": true
   },
   "outputs": [],
   "source": [
    "#LETS try making our own portfolio. Here I took a few of Buffetts top picks in his portfolio to base ours around.\n",
    "symport = [\"ABC\",\"AAPL\", \"TSLA\", \"AMZN\", \"WFC\", \"BAC\", \"KO\", \"COST\", \"MON\",  \"USP\", \"AXP\", \"TEVA\", \"GM\", \"UPS\", \"KHC\", \"UAL\", \"DAL\", \"AXP\", \"PSX\" ]"
   ]
  },
  {
   "cell_type": "code",
   "execution_count": 86,
   "metadata": {
    "collapsed": true
   },
   "outputs": [],
   "source": [
    "myport = readRobinHood(symport)"
   ]
  },
  {
   "cell_type": "code",
   "execution_count": 87,
   "metadata": {},
   "outputs": [],
   "source": [
    "portret = ARIMAreturns(df=myport,p=3,d=0,q=0, leng=364)\n",
    "varport = np.array(myport.cov())"
   ]
  },
  {
   "cell_type": "code",
   "execution_count": 88,
   "metadata": {},
   "outputs": [
    {
     "data": {
      "text/html": [
       "<div>\n",
       "<style scoped>\n",
       "    .dataframe tbody tr th:only-of-type {\n",
       "        vertical-align: middle;\n",
       "    }\n",
       "\n",
       "    .dataframe tbody tr th {\n",
       "        vertical-align: top;\n",
       "    }\n",
       "\n",
       "    .dataframe thead th {\n",
       "        text-align: right;\n",
       "    }\n",
       "</style>\n",
       "<table border=\"1\" class=\"dataframe\">\n",
       "  <thead>\n",
       "    <tr style=\"text-align: right;\">\n",
       "      <th></th>\n",
       "      <th>ABC</th>\n",
       "      <th>AAPL</th>\n",
       "      <th>TSLA</th>\n",
       "      <th>AMZN</th>\n",
       "      <th>WFC</th>\n",
       "      <th>BAC</th>\n",
       "      <th>KO</th>\n",
       "      <th>COST</th>\n",
       "      <th>MON</th>\n",
       "      <th>AXP</th>\n",
       "      <th>TEVA</th>\n",
       "      <th>GM</th>\n",
       "      <th>UPS</th>\n",
       "      <th>KHC</th>\n",
       "      <th>UAL</th>\n",
       "      <th>DAL</th>\n",
       "      <th>PSX</th>\n",
       "    </tr>\n",
       "  </thead>\n",
       "  <tbody>\n",
       "    <tr>\n",
       "      <th>0</th>\n",
       "      <td>-0.20336</td>\n",
       "      <td>0.092181</td>\n",
       "      <td>0.048034</td>\n",
       "      <td>-0.220395</td>\n",
       "      <td>0.031849</td>\n",
       "      <td>-0.110821</td>\n",
       "      <td>-0.081208</td>\n",
       "      <td>0.092684</td>\n",
       "      <td>0.125874</td>\n",
       "      <td>0.1178</td>\n",
       "      <td>-0.320371</td>\n",
       "      <td>-0.126906</td>\n",
       "      <td>0.047804</td>\n",
       "      <td>-0.588918</td>\n",
       "      <td>-0.266883</td>\n",
       "      <td>-0.088325</td>\n",
       "      <td>0.712323</td>\n",
       "    </tr>\n",
       "  </tbody>\n",
       "</table>\n",
       "</div>"
      ],
      "text/plain": [
       "       ABC      AAPL      TSLA      AMZN       WFC       BAC        KO  \\\n",
       "0 -0.20336  0.092181  0.048034 -0.220395  0.031849 -0.110821 -0.081208   \n",
       "\n",
       "       COST       MON     AXP      TEVA        GM       UPS       KHC  \\\n",
       "0  0.092684  0.125874  0.1178 -0.320371 -0.126906  0.047804 -0.588918   \n",
       "\n",
       "        UAL       DAL       PSX  \n",
       "0 -0.266883 -0.088325  0.712323  "
      ]
     },
     "execution_count": 88,
     "metadata": {},
     "output_type": "execute_result"
    }
   ],
   "source": [
    "portret"
   ]
  },
  {
   "cell_type": "code",
   "execution_count": null,
   "metadata": {},
   "outputs": [],
   "source": [
    "X = np.linspace(0,1, num = 31).tolist()\n",
    "#var=[for i in w: weightedvar(cov=sig, weights=np.i.tolist()[0]) ]\n",
    "\n",
    "def cons2(r):\n",
    "    return ({'type':'eq', 'fun': lambda x: 1 - np.sum(x)},{'type':'eq', 'fun': lambda x: r - weightedreturn(weights=x,returns= np.array(portret.transpose()[0]),)})\n",
    "\n",
    "weightseff = [opt.minimize(portvar, x0=x0, bounds = bds, constraints =cons2(r)).x.tolist() for r in X ]\n",
    "sdeff = [np.sqrt(weightedvar(cov=varport, weights=i)) for i in weightseff]\n",
    "\n",
    "plt.plot(sdeff,X)\n",
    "plt.show()"
   ]
  },
  {
   "cell_type": "code",
   "execution_count": null,
   "metadata": {
    "collapsed": true
   },
   "outputs": [],
   "source": []
  }
 ],
 "metadata": {
  "kernelspec": {
   "display_name": "Python 3",
   "language": "python",
   "name": "python3"
  },
  "language_info": {
   "codemirror_mode": {
    "name": "ipython",
    "version": 3
   },
   "file_extension": ".py",
   "mimetype": "text/x-python",
   "name": "python",
   "nbconvert_exporter": "python",
   "pygments_lexer": "ipython3",
   "version": "3.6.1"
  }
 },
 "nbformat": 4,
 "nbformat_minor": 2
}
